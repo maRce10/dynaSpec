{
  "cells": [
    {
      "cell_type": "markdown",
      "metadata": {
        "id": "view-in-github",
        "colab_type": "text"
      },
      "source": [
        "<a href=\"https://colab.research.google.com/github/maRce10/dynaSpec/blob/master/dynaSpec.ipynb\" target=\"_parent\"><img src=\"https://colab.research.google.com/assets/colab-badge.svg\" alt=\"Open In Colab\"/></a>"
      ]
    },
    {
      "cell_type": "markdown",
      "source": [
        "## Installation\n",
        "\n",
        "install all packages and external dependencies:"
      ],
      "metadata": {
        "id": "05bsvm_f7UNt"
      }
    },
    {
      "cell_type": "code",
      "source": [
        "system(\"sudo apt install fftw3 ffmpeg libsndfile1 libsndfile1-dev libfftw3-3 libfftw3-dev ghostscript\")\n",
        "\n",
        "\n",
        "# install packages\n",
        "install.packages(\"dynaSpec\")\n",
        "\n",
        "# load packages\n",
        "library(dynaSpec)\n",
        "library(warbleR)"
      ],
      "metadata": {
        "colab": {
          "base_uri": "https://localhost:8080/"
        },
        "id": "JG2RGZR3zvfs",
        "outputId": "24e70959-53f2-4f51-f95f-3665babd3048"
      },
      "execution_count": 2,
      "outputs": [
        {
          "output_type": "stream",
          "name": "stderr",
          "text": [
            "Installing package into ‘/usr/local/lib/R/site-library’\n",
            "(as ‘lib’ is unspecified)\n",
            "\n",
            "Loading required package: tuneR\n",
            "\n",
            "Loading required package: seewave\n",
            "\n",
            "Loading required package: NatureSounds\n",
            "\n",
            "Loading required package: knitr\n",
            "\n"
          ]
        }
      ]
    },
    {
      "cell_type": "code",
      "source": [
        "t1 <- Sys.time()\n",
        "system(\"sudo apt install fftw3 ffmpeg libsndfile1 libsndfile1-dev libfftw3-3 libfftw3-dev\")\n",
        "\n",
        "\n",
        "# install packages\n",
        "install.packages(\"remotes\")\n",
        "remotes::install_github(\"maRce10/warbleR\")\n",
        "remotes::install_github(\"maRce10/dynaSpec\")\n",
        "\n",
        "Sys.time() - t1"
      ],
      "metadata": {
        "id": "LgkTFw5Phkjx",
        "colab": {
          "base_uri": "https://localhost:8080/",
          "height": 1000
        },
        "outputId": "26ff40ef-d2f6-40d2-fc43-0fc823f6251d",
        "collapsed": true
      },
      "execution_count": 1,
      "outputs": [
        {
          "output_type": "stream",
          "name": "stderr",
          "text": [
            "Installing package into ‘/usr/local/lib/R/site-library’\n",
            "(as ‘lib’ is unspecified)\n",
            "\n",
            "Downloading GitHub repo maRce10/warbleR@HEAD\n",
            "\n"
          ]
        },
        {
          "output_type": "stream",
          "name": "stdout",
          "text": [
            "signal       (NA -> 1.8-1    ) [CRAN]\n",
            "tuneR        (NA -> 1.4.7    ) [CRAN]\n",
            "moments      (NA -> 0.14.1   ) [CRAN]\n",
            "bitops       (NA -> 1.0-9    ) [CRAN]\n",
            "proxy        (NA -> 0.4-27   ) [CRAN]\n",
            "bioacoustics (NA -> 0.2.8    ) [CRAN]\n",
            "rjson        (NA -> 0.2.23   ) [CRAN]\n",
            "RCurl        (NA -> 1.98-1.17) [CRAN]\n",
            "pbapply      (NA -> 1.7-2    ) [CRAN]\n",
            "monitoR      (NA -> 1.0.7    ) [CRAN]\n",
            "fftw         (NA -> 1.0-9    ) [CRAN]\n",
            "dtw          (NA -> 1.23-1   ) [CRAN]\n",
            "NatureSounds (NA -> 1.0.5    ) [CRAN]\n",
            "seewave      (NA -> 2.2.3    ) [CRAN]\n"
          ]
        },
        {
          "output_type": "stream",
          "name": "stderr",
          "text": [
            "Installing 14 packages: signal, tuneR, moments, bitops, proxy, bioacoustics, rjson, RCurl, pbapply, monitoR, fftw, dtw, NatureSounds, seewave\n",
            "\n",
            "Installing packages into ‘/usr/local/lib/R/site-library’\n",
            "(as ‘lib’ is unspecified)\n",
            "\n"
          ]
        },
        {
          "output_type": "stream",
          "name": "stdout",
          "text": [
            "\u001b[36m──\u001b[39m \u001b[36mR CMD build\u001b[39m \u001b[36m─────────────────────────────────────────────────────────────────\u001b[39m\n",
            "* checking for file ‘/tmp/Rtmp13qafT/remotes14e5c99c5db/maRce10-warbleR-e78f022/DESCRIPTION’ ... OK\n",
            "* preparing ‘warbleR’:\n",
            "* checking DESCRIPTION meta-information ... OK\n",
            "* cleaning src\n",
            "* checking for LF line-endings in source and make files and shell scripts\n",
            "* checking for empty or unneeded directories\n",
            "* building ‘warbleR_1.1.35.tar.gz’\n",
            "\n"
          ]
        },
        {
          "output_type": "stream",
          "name": "stderr",
          "text": [
            "Installing package into ‘/usr/local/lib/R/site-library’\n",
            "(as ‘lib’ is unspecified)\n",
            "\n",
            "Downloading GitHub repo maRce10/dynaSpec@HEAD\n",
            "\n"
          ]
        },
        {
          "output_type": "stream",
          "name": "stdout",
          "text": [
            "wk           (NA     -> 0.9.4  ) [CRAN]\n",
            "e1071        (NA     -> 1.7-16 ) [CRAN]\n",
            "units        (NA     -> 0.8-7  ) [CRAN]\n",
            "s2           (NA     -> 1.1.7  ) [CRAN]\n",
            "classInt     (NA     -> 0.4-11 ) [CRAN]\n",
            "lpSolve      (NA     -> 5.6.23 ) [CRAN]\n",
            "sf           (NA     -> 1.0-20 ) [CRAN]\n",
            "tweenr       (NA     -> 2.0.3  ) [CRAN]\n",
            "pillar       (1.10.1 -> 1.10.2 ) [CRAN]\n",
            "assertthat   (NA     -> 0.2.1  ) [CRAN]\n",
            "conrad       (NA     -> 1.0.0.1) [CRAN]\n",
            "googleLan... (NA     -> 0.3.0  ) [CRAN]\n",
            "googleAuthR  (NA     -> 2.0.2  ) [CRAN]\n",
            "aws.signa... (NA     -> 0.6.0  ) [CRAN]\n",
            "transformr   (NA     -> 0.1.5  ) [CRAN]\n",
            "webshot      (NA     -> 0.5.5  ) [CRAN]\n",
            "text2speech  (NA     -> 1.0.0  ) [CRAN]\n",
            "gridExtra    (NA     -> 2.3    ) [CRAN]\n",
            "gganimate    (NA     -> 1.0.9  ) [CRAN]\n",
            "ari          (NA     -> 0.3.5  ) [CRAN]\n",
            "viridis      (NA     -> 0.6.5  ) [CRAN]\n",
            "png          (NA     -> 0.1-8  ) [CRAN]\n"
          ]
        },
        {
          "output_type": "stream",
          "name": "stderr",
          "text": [
            "Installing 22 packages: wk, e1071, units, s2, classInt, lpSolve, sf, tweenr, pillar, assertthat, conrad, googleLanguageR, googleAuthR, aws.signature, transformr, webshot, text2speech, gridExtra, gganimate, ari, viridis, png\n",
            "\n",
            "Installing packages into ‘/usr/local/lib/R/site-library’\n",
            "(as ‘lib’ is unspecified)\n",
            "\n"
          ]
        },
        {
          "output_type": "stream",
          "name": "stdout",
          "text": [
            "\u001b[36m──\u001b[39m \u001b[36mR CMD build\u001b[39m \u001b[36m─────────────────────────────────────────────────────────────────\u001b[39m\n",
            "* checking for file ‘/tmp/Rtmp13qafT/remotes14e614a95eb/maRce10-dynaSpec-02665df/DESCRIPTION’ ... OK\n",
            "* preparing ‘dynaSpec’:\n",
            "* checking DESCRIPTION meta-information ... OK\n",
            "* checking for LF line-endings in source and make files and shell scripts\n",
            "* checking for empty or unneeded directories\n",
            "* building ‘dynaSpec_1.0.2.tar.gz’\n",
            "\n"
          ]
        },
        {
          "output_type": "stream",
          "name": "stderr",
          "text": [
            "Installing package into ‘/usr/local/lib/R/site-library’\n",
            "(as ‘lib’ is unspecified)\n",
            "\n"
          ]
        },
        {
          "output_type": "display_data",
          "data": {
            "text/plain": [
              "Time difference of 16.26516 mins"
            ]
          },
          "metadata": {}
        }
      ]
    },
    {
      "cell_type": "markdown",
      "source": [
        "load packages:"
      ],
      "metadata": {
        "id": "Hy0TZ5Ihz12G"
      }
    },
    {
      "cell_type": "code",
      "source": [
        "%%python\n",
        "!pip install google-colab\n",
        "from google.colab import files\n",
        "\n",
        "uploaded = files.upload()\n",
        "for filepath, content in uploaded.items():\n",
        "  print(f'User uploaded file \"{filepath}\" with length {len(content)} bytes')\n",
        "audio_path = os.path.abspath(filepath)\n",
        "audio_name = os.path.splitext(audio_path)[0]"
      ],
      "metadata": {
        "colab": {
          "base_uri": "https://localhost:8080/",
          "height": 143
        },
        "id": "W0DnCd4mhvA-",
        "outputId": "28df0366-77d7-4113-ee21-7d35df7fc057"
      },
      "execution_count": null,
      "outputs": [
        {
          "output_type": "error",
          "ename": "ERROR",
          "evalue": "Error in parse(text = x, srcfile = src): <text>:1:1: unexpected SPECIAL\n1: %%\n    ^\n",
          "traceback": [
            "Error in parse(text = x, srcfile = src): <text>:1:1: unexpected SPECIAL\n1: %%\n    ^\nTraceback:\n"
          ]
        }
      ]
    },
    {
      "cell_type": "code",
      "source": [
        "library(warbleR)\n",
        "library(dynaSpec)\n",
        "library(viridis)"
      ],
      "metadata": {
        "id": "_FiWkoE_z0k9",
        "colab": {
          "base_uri": "https://localhost:8080/"
        },
        "outputId": "bf8af423-6505-419b-b35a-070464f8ee09"
      },
      "execution_count": null,
      "outputs": [
        {
          "output_type": "stream",
          "name": "stderr",
          "text": [
            "Loading required package: tuneR\n",
            "\n",
            "Loading required package: seewave\n",
            "\n",
            "Loading required package: NatureSounds\n",
            "\n",
            "Loading required package: knitr\n",
            "\n",
            "Loading required package: viridisLite\n",
            "\n"
          ]
        }
      ]
    },
    {
      "cell_type": "markdown",
      "source": [
        "# Create dynamic spectrogram\n"
      ],
      "metadata": {
        "id": "nKiEkiY2ZnMd"
      }
    },
    {
      "cell_type": "markdown",
      "source": [
        "Create dynamic spectro of frogs calls with a sound file read from a open repository:"
      ],
      "metadata": {
        "id": "57WuJMG8uXVn"
      }
    },
    {
      "cell_type": "code",
      "source": [
        "# read data from figshare\n",
        "frogs <- read_sound_file(\"https://ndownloader.figshare.com/files/22829075\")\n",
        "\n",
        "# cut a couple of species\n",
        "shrt_frgs <- cutw(frogs, from = 35.3, to = 50.5, output = \"Wave\")\n",
        "\n",
        "\n",
        "# make annotation call for 2 annotations\n",
        "ann_cll <- call(\"text\", x = 0.25, y = 0.87,\n",
        "                labels = c(\"Dendropsophus ebraccatus\", \"Eleutherodactylus coqui\"),\n",
        "                cex = 1, start = c(0.4, 7),\n",
        "                end = c(5.5, 14.8), col = \"#FFEA46CC\", font = 3, fading = 0.6)\n",
        "\n",
        "# create dynamic spectro\n",
        "scrolling_spectro(wave = shrt_frgs, wl = 512, ovlp = 95,\n",
        "                  t.display = 1.1, pal = cividis,\n",
        "                  grid = FALSE, flim = c(0, 5.5), loop = 3,\n",
        "                  width = 1200, height = 550, res = 200,\n",
        "                  collevels = seq(-40, 0, 5), lcol =  \"#FFFFFFCC\", colbg = \"black\",\n",
        "                  fps = 30, file.name = \"frogs_sp_labels.mp4\", osc = TRUE,\n",
        "                  height.prop = c(3, 1),colwave = \"#31688E\", lty = 3,\n",
        "                  annotation.call = ann_cll, buffer = 0, lower.spectro = FALSE)"
      ],
      "metadata": {
        "id": "AqzN3zG2zrGU",
        "colab": {
          "base_uri": "https://localhost:8080/",
          "height": 109
        },
        "outputId": "612efc6e-60c0-461c-96de-144ebb10c293"
      },
      "execution_count": null,
      "outputs": [
        {
          "output_type": "error",
          "ename": "ERROR",
          "evalue": "Error in read_sound_file(\"https://ndownloader.figshare.com/files/22829075\"): could not find function \"read_sound_file\"\n",
          "traceback": [
            "Error in read_sound_file(\"https://ndownloader.figshare.com/files/22829075\"): could not find function \"read_sound_file\"\nTraceback:\n"
          ]
        }
      ]
    },
    {
      "cell_type": "markdown",
      "source": [
        "You can find the output video file in this folder (click on the folder icon on the left side of this page):"
      ],
      "metadata": {
        "id": "vBNoHdx4WkOo"
      }
    },
    {
      "cell_type": "code",
      "source": [
        "getwd()"
      ],
      "metadata": {
        "colab": {
          "base_uri": "https://localhost:8080/",
          "height": 34
        },
        "id": "5-1qY8fT3YY7",
        "outputId": "b29a8fdb-4f4c-49c3-bfb9-c5e39129076c"
      },
      "execution_count": null,
      "outputs": [
        {
          "output_type": "display_data",
          "data": {
            "text/html": [
              "'/content'"
            ],
            "text/markdown": "'/content'",
            "text/latex": "'/content'",
            "text/plain": [
              "[1] \"/content\""
            ]
          },
          "metadata": {}
        }
      ]
    },
    {
      "cell_type": "code",
      "source": [
        "list.files(pattern = \"frogs_sp_labels\")"
      ],
      "metadata": {
        "colab": {
          "base_uri": "https://localhost:8080/",
          "height": 17
        },
        "id": "57XYIfIeXgxP",
        "outputId": "339aad16-d29a-453c-f244-285d45869081"
      },
      "execution_count": null,
      "outputs": [
        {
          "output_type": "display_data",
          "data": {
            "text/html": [],
            "text/markdown": "",
            "text/latex": "",
            "text/plain": [
              "character(0)"
            ]
          },
          "metadata": {}
        }
      ]
    },
    {
      "cell_type": "code",
      "source": [],
      "metadata": {
        "colab": {
          "base_uri": "https://localhost:8080/",
          "height": 178
        },
        "id": "KwSCTdigcT3a",
        "outputId": "c44aec66-3756-4694-eb33-fd13fc47ae15"
      },
      "execution_count": null,
      "outputs": [
        {
          "output_type": "stream",
          "name": "stderr",
          "text": [
            "Warning message in download.file(\"frogs_sp_labels.mp4\", destfile = \"frogs_sp_labels.mp4\"):\n",
            "“URL 'http://frogs_sp_labels.mp4/': status was 'Couldn't resolve host name'”\n"
          ]
        },
        {
          "output_type": "error",
          "ename": "ERROR",
          "evalue": "Error in download.file(\"frogs_sp_labels.mp4\", destfile = \"frogs_sp_labels.mp4\"): cannot open URL 'frogs_sp_labels.mp4'\n",
          "traceback": [
            "Error in download.file(\"frogs_sp_labels.mp4\", destfile = \"frogs_sp_labels.mp4\"): cannot open URL 'frogs_sp_labels.mp4'\nTraceback:\n",
            "1. download.file(\"frogs_sp_labels.mp4\", destfile = \"frogs_sp_labels.mp4\")"
          ]
        }
      ]
    }
  ],
  "metadata": {
    "anaconda-cloud": "",
    "kernelspec": {
      "display_name": "R",
      "langauge": "R",
      "name": "ir"
    },
    "language_info": {
      "codemirror_mode": "r",
      "file_extension": ".r",
      "mimetype": "text/x-r-source",
      "name": "R",
      "pygments_lexer": "r",
      "version": "3.4.1"
    },
    "colab": {
      "provenance": [],
      "include_colab_link": true
    }
  },
  "nbformat": 4,
  "nbformat_minor": 0
}